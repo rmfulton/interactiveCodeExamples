{
 "cells": [
  {
   "cell_type": "code",
   "execution_count": null,
   "metadata": {},
   "outputs": [],
   "source": [
    "import random\n",
    "import matplotlib.pyplot as plt\n",
    "plt.style.use('dark_background')"
   ]
  },
  {
   "cell_type": "code",
   "execution_count": null,
   "metadata": {},
   "outputs": [],
   "source": [
    "num_people = 30\n",
    "max_rating = 100\n",
    "iters = 100\n",
    "influence_factor = 0.3\n",
    "num_plots = 3\n",
    "\n",
    "initial_ratings = [random.random()*max_rating for _ in range(num_people)]\n",
    "\n",
    "current_ratings = [initial_ratings[i] for i in range(num_people)]\n",
    "ratings_over_time = [current_ratings]\n",
    "for _ in range(iters):\n",
    "    neighbor_average = [(current_ratings[(i-1)%num_people] + current_ratings[(i+1)%num_people])/2 for i in range(num_people)]\n",
    "    after_conversations = [current_ratings[i]*(1 - influence_factor) + neighbor_average[i]*influence_factor for i in range(num_people) ]\n",
    "    current_ratings = after_conversations\n",
    "    ratings_over_time.append(current_ratings)"
   ]
  },
  {
   "cell_type": "code",
   "execution_count": null,
   "metadata": {},
   "outputs": [],
   "source": [
    "figure, axis = plt.subplots(1,num_plots)\n",
    "\n",
    "for i in range(num_plots):\n",
    "    axis[i].bar(range(num_people), ratings_over_time[(1<<i) - 1])\n",
    "    axis[i].set_xlabel(\"person #\")\n",
    "    axis[i].set_ylabel(\"presidential rating\")\n",
    "    axis[i].set_title(f\"After {(1<<i) - 1} rounds\")\n",
    "    axis[i].set_ylim([0,max_rating])\n",
    "\n",
    "plt.show()"
   ]
  },
  {
   "cell_type": "code",
   "execution_count": null,
   "metadata": {
    "vscode": {
     "languageId": "plaintext"
    }
   },
   "outputs": [],
   "source": []
  }
 ],
 "metadata": {
  "language_info": {
   "name": "python"
  }
 },
 "nbformat": 4,
 "nbformat_minor": 2
}
