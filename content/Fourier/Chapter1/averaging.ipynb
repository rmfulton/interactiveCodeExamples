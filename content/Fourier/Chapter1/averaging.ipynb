{
 "cells": [
  {
   "cell_type": "code",
   "execution_count": null,
   "metadata": {},
   "outputs": [],
   "source": [
    "import random\n",
    "import matplotlib.pyplot as plt\n",
    "plt.style.use('dark_background')"
   ]
  },
  {
   "cell_type": "code",
   "execution_count": null,
   "metadata": {},
   "outputs": [],
   "source": [
    "num_people = 30\n",
    "max_rating = 100\n",
    "initial_ratings = [(random.random()*max_rating - max_rating/2) for _ in range(num_people)]\n",
    "neighbor_average = [(initial_ratings[(i-1)%num_people] + initial_ratings[(i+1)%num_people])/2 for i in range(num_people)]\n",
    "influence_factor = 0.1\n",
    "final_ratings = [initial_ratings[i]*(1 - influence_factor) + neighbor_average[i]*influence_factor for i in range(num_people) ]"
   ]
  },
  {
   "cell_type": "code",
   "execution_count": null,
   "metadata": {},
   "outputs": [],
   "source": [
    "figure, axis = plt.subplots(1, 2, figsize = (10,8), sharex = True)\n",
    "\n",
    "axis[0].bar(range(num_people), initial_ratings)\n",
    "axis[0].set_title(\"Initial Random Ratings\")\n",
    "axis[0].set_ylim([-max_rating/2,max_rating/2])\n",
    "\n",
    "axis[1].bar(range(num_people), final_ratings)\n",
    "axis[1].set_title(\"Post-Interaction Ratings\")\n",
    "axis[1].set_ylim([-max_rating/2,max_rating/2])\n",
    "\n",
    "plt.show()"
   ]
  },
  {
   "cell_type": "code",
   "execution_count": null,
   "metadata": {
    "vscode": {
     "languageId": "plaintext"
    }
   },
   "outputs": [],
   "source": []
  }
 ],
 "metadata": {
  "language_info": {
   "name": "python"
  }
 },
 "nbformat": 4,
 "nbformat_minor": 2
}
