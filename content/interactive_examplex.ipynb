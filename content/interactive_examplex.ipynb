{
 "cells": [
  {
   "cell_type": "markdown",
   "metadata": {},
   "source": [
    "Official documentation @ ```https://ipywidgets.readthedocs.io/en/latest/examples/Using%20Interact.html```"
   ]
  },
  {
   "cell_type": "code",
   "execution_count": null,
   "metadata": {
    "vscode": {
     "languageId": "plaintext"
    }
   },
   "outputs": [],
   "source": [
    "%pip install -q ipywidgets"
   ]
  },
  {
   "cell_type": "code",
   "execution_count": null,
   "metadata": {},
   "outputs": [],
   "source": [
    "import math\n",
    "import matplotlib.pyplot as plt\n",
    "import ipywidgets as widget\n",
    "def binomialDistribution(N):\n",
    "    dist = [math.comb(N,k)/2**N for k in range(N+1)]\n",
    "    return dist\n",
    "\n",
    "def plotBinomialDistribution(N):\n",
    "    x = range(N+1)\n",
    "    heights = binomialDistribution(N)\n",
    "    plt.bar(x,heights)\n",
    "    plt.show()"
   ]
  },
  {
   "cell_type": "code",
   "execution_count": null,
   "metadata": {},
   "outputs": [],
   "source": [
    "widget.interact(plotBinomialDistribution, x=30)"
   ]
  }
 ],
 "metadata": {
  "language_info": {
   "name": "python"
  }
 },
 "nbformat": 4,
 "nbformat_minor": 2
}
